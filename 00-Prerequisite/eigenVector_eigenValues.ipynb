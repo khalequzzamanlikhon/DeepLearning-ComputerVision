{
 "cells": [
  {
   "cell_type": "markdown",
   "metadata": {},
   "source": [
    "## Eigen vector does not change direction in a transformation\n",
    "### The mathematics of it\n",
    "For a square matrix A, an Eigenvector and Eigenvalue make this equation true: $Av=\\Lambda v$\n",
    "\n",
    "Example: For this matrix \n",
    "\\begin{equation*} \n",
    "\\begin {bmatrix}\n",
    "-6 & 3\\\\\n",
    "4& 5\\\\\n",
    "\\end{bmatrix}\n",
    "\\end {equation*}\n",
    "an eigen vector is  \n",
    "\\begin{equation*} \n",
    "\\begin {bmatrix}\n",
    "1\\\\\n",
    "4\\\\\n",
    "\\end{bmatrix}\n",
    "\\end {equation*}\n",
    "\n",
    "Let's do some matrix multiplications to see if this is true.\n",
    "Av gives us:\n",
    "\n",
    "\\begin{align*}\n",
    "\\begin{bmatrix}\n",
    "-6 & 3 \\\\\n",
    "4 & 5\n",
    "\\end{bmatrix}\n",
    "\n",
    "\\begin{bmatrix}\n",
    "1 \\\\\n",
    "4\n",
    "\\end{bmatrix}\n",
    "&=\n",
    "\\begin{bmatrix}\n",
    "-6 \\times 1 + 3 \\times 4 \\\\\n",
    "4 \\times 1 + 5 \\times 4\n",
    "\\end{bmatrix}\n",
    "\\\\\n",
    "&=\n",
    "\\begin{bmatrix}\n",
    "6 \\\\\n",
    "24\n",
    "\\end{bmatrix}\n",
    "\\end{align*}\n",
    "\n",
    "\n",
    "\n",
    "$\\lambda v$ gives us:\n",
    "\n",
    "\\begin{align*}\n",
    "6 \n",
    "\\begin{bmatrix}\n",
    "1 \\\\\n",
    "4\n",
    "\\end{bmatrix}\n",
    "= \n",
    "\\begin{bmatrix}\n",
    "6 \\\\\n",
    "24\n",
    "\\end{bmatrix}\n",
    "\\end{align*}\n",
    "\n"
   ]
  },
  {
   "cell_type": "markdown",
   "metadata": {},
   "source": [
    "Notice how we multiply a matrix by a vector and get the same result as when we multiply a scalar (just a number) by that vector."
   ]
  },
  {
   "cell_type": "markdown",
   "metadata": {},
   "source": [
    "## How do we find these eigen things?\n",
    "**eigen Values**:\n",
    "- step 1: First find the eigenvalue. Then the equation must be true. $Av=\\lambda v$\n",
    "- step 2: multiply r.h.s with identity matrix to confirm that we are dealing with matrix-matrix\n",
    "\n",
    "- step 3: Bring all to the left hand side: $Av-\\lambda Iv=0$\n",
    "- step 4: if v is non zero then solve $|A-\\lambda I|=0$\n",
    "\n",
    "**eigen vectors**: The corresponding eignen vectors $e1,e2,e3.....e_p$ are obtained by solving this expression: $(A- \\lambda _j I) e_j =0 $.\n",
    "\n",
    "\n",
    "Here,$(\\lambda _j)$. is the $j^th$ eigen values and $e_j$ is the eigen vector for that eigen value.\n",
    "\n",
    "\n",
    "**Important**\n",
    "- eigen vectors for different eigen values are orthogonal. We can prove it by applying dot product and we will get zero as result. e1.e2=0.\n",
    "- even they are orthogonal even if the eigen values are same.\n",
    "- generalized variance is the product of the eigen values.\n"
   ]
  },
  {
   "cell_type": "markdown",
   "metadata": {},
   "source": [
    "Application:\n",
    "- we can use matrices to do transformations in space.\n",
    "- eigen vector is the direction that does not change direction\n",
    "- eigen value is the scale of the stretch:\n",
    "     - 1 means no change\n",
    "     - 2 means douling in length\n",
    "     - -1 means ploting backwards along the eigen values direction\n",
    "     - e.t.c."
   ]
  },
  {
   "cell_type": "code",
   "execution_count": 13,
   "metadata": {},
   "outputs": [
    {
     "name": "stdout",
     "output_type": "stream",
     "text": [
      "[[ 11.5  -1. ]\n",
      " [  3.5  -4. ]\n",
      " [  1.5   0. ]\n",
      " [-16.5   5. ]]\n"
     ]
    }
   ],
   "source": [
    "import numpy as np\n",
    "\n",
    "# step 1 standardization\n",
    "# initializing data\n",
    "X=np.array([68,60,58,40],dtype=float)\n",
    "Y=np.array([29,26,30,35],dtype=float)\n",
    "data=np.vstack((X,Y))\n",
    "data=data.T # now each column represents a example\n",
    "data-=np.mean(data,axis=0)\n",
    "print(data)"
   ]
  },
  {
   "cell_type": "code",
   "execution_count": 14,
   "metadata": {},
   "outputs": [
    {
     "name": "stdout",
     "output_type": "stream",
     "text": [
      "[[104.75 -27.  ]\n",
      " [-27.    10.5 ]]\n"
     ]
    }
   ],
   "source": [
    "# covariance matrix\n",
    "cov_matrix=np.dot(data.T,data)/data.shape[0]\n",
    "print(cov_matrix)"
   ]
  },
  {
   "cell_type": "code",
   "execution_count": 15,
   "metadata": {},
   "outputs": [
    {
     "name": "stdout",
     "output_type": "stream",
     "text": [
      "eigen values : [111.93674482   3.31325518]\n",
      "eigen vectors \n",
      " [[ 0.96635295  0.25721971]\n",
      " [-0.25721971  0.96635295]]\n"
     ]
    }
   ],
   "source": [
    "# eigen values\n",
    "#I=np.eye(*cov_matrix.shape)\n",
    "eigen_val, eigen_vec=np.linalg.eig(cov_matrix)\n",
    "print(f\"eigen values : {eigen_val}\")\n",
    "print(f\"eigen vectors \\n {eigen_vec}\")"
   ]
  },
  {
   "cell_type": "code",
   "execution_count": 16,
   "metadata": {},
   "outputs": [
    {
     "name": "stdout",
     "output_type": "stream",
     "text": [
      "Eigen value 1: 111.94, Eigen vector 1: [0.96635295 0.25721971]\n",
      "Eigen value 2: 3.31, Eigen vector 2: [-0.25721971  0.96635295]\n"
     ]
    }
   ],
   "source": [
    "#print pairwise values and vectors\n",
    "for i, (val, vec) in enumerate(zip(eigen_val, eigen_vec)):\n",
    "    print(f\"Eigen value {i+1}: {val:.2f}, Eigen vector {i+1}: {vec}\")"
   ]
  },
  {
   "cell_type": "markdown",
   "metadata": {},
   "source": [
    "  - eigen vectors are actually the directions of the axes where there is the most variance (most information) and that we call Principal Components.\n",
    "  - eigenvalues are simply the coefficients attached to eigenvectors, which give the amount of variance carried in each Principal Component."
   ]
  },
  {
   "cell_type": "code",
   "execution_count": null,
   "metadata": {},
   "outputs": [],
   "source": []
  }
 ],
 "metadata": {
  "kernelspec": {
   "display_name": "Python 3",
   "language": "python",
   "name": "python3"
  },
  "language_info": {
   "codemirror_mode": {
    "name": "ipython",
    "version": 3
   },
   "file_extension": ".py",
   "mimetype": "text/x-python",
   "name": "python",
   "nbconvert_exporter": "python",
   "pygments_lexer": "ipython3",
   "version": "3.11.3"
  },
  "orig_nbformat": 4
 },
 "nbformat": 4,
 "nbformat_minor": 2
}
