{
 "cells": [
  {
   "cell_type": "markdown",
   "metadata": {},
   "source": [
    "## Covariance Matrix\n",
    "\n",
    "### What is Covariance Matrix? \n",
    "- Covariance matrix is a square matrix that displays the variance exhibited by elements of datasets and the covariance between a pair of datasets. Variance is a measure of dispersion and can be defined as the spread of data from the mean of the given dataset. Covariance is calculated between two variables and is used to measure how the two variables vary together.\n",
    "\n",
    "- Variance covariance matrix is defined as a square matrix where the diagonal elements represent the variance and the off-diagonal elements represent the covariance. The covariance between two variables can be positive, negative, and zero. A positive covariance indicates that the two variables have a positive relationship whereas negative covariance shows that they have a negative relationship. If two elements do not vary together then they will display a zero covariance.\n",
    "\n",
    "### Covariance Matrix Formula\n",
    "\n",
    "#### **Population variance**:  $\\frac{\\sum_{1}^{n}\\left ( x_{i} -\\overline{x}\\right )^{2} }{n-1}$\n",
    "\n",
    "#### **Population Covariance**: $\\frac{\\sum_{1}^{n}\\left ( x_{i} -\\mu_{x}\\right )\\left ( y_{i}-\\mu_{y} \\right ) }{n}$\n",
    "\n",
    "#### **Sample Variance**: $\\frac{\\sum_{1}^{n}\\left ( x_{i} -\\overline{x}\\right )^{2} }{n-1}$\n",
    "\n",
    "\n",
    "#### **Sample Covariance**: $\\frac{\\sum_{1}^{n}\\left ( x_{i} -\\overline{x}\\right )^{2} }{n-1}$\n",
    "\n",
    "where, \n",
    "- μ = mean of population data.\n",
    "\n",
    "- x= mean of sample data.\n",
    "\n",
    "- n = number of observations in the dataset.\n",
    "\n",
    "- $x_i$ = observations in dataset x.\n",
    "\n"
   ]
  },
  {
   "cell_type": "markdown",
   "metadata": {},
   "source": [
    "### Example\n",
    "Example : Find the population covariance matrix for the following table.\n",
    "\n",
    "| X             |      Y      |\n",
    "|---------------|-------------|\n",
    "| 68            |      29  |         \n",
    "| 60            |      26 |       \n",
    "| 58            |      30    |        \n",
    "| 40            |     35   |    \n",
    "  \n",
    "\n"
   ]
  },
  {
   "cell_type": "markdown",
   "metadata": {},
   "source": [
    "#### Variance:\n",
    "\n",
    "Solution: Population Variance for variable x: $\\frac{1}{n} \\sum_{i=1}^{n} (x_i - \\mu_x)^2$\n",
    "\n",
    "Variance for variable x:$ \\frac{[(68 - 56.5)^2 + (60 - 56.5)^2 + (58 - 56.5)^2 + (40 - 56.5)^2]}{4} = 104.75$\n",
    "\n",
    "Variance for variable y:$ \\frac{[(29 - 30)^2 + (26 - 30)^2 + (30 - 30)^2 + (35 - 30)^2]}{4} = 10.5$\n",
    "\n",
    "Covariance between variables x and y: $\\frac{1}{n} \\sum_{i=1}^{n} (x_i - \\mu_x)(y_i - \\mu_y) = -27$\n",
    "\n",
    "\n",
    "The variance-covariance matrix is given as follows:\n",
    "\n",
    "$\\begin{bmatrix} 104.7 &-27 \\\\ -27& 10.5 \\end{bmatrix}$\n"
   ]
  },
  {
   "cell_type": "markdown",
   "metadata": {},
   "source": [
    "**Question** : How will you interpret the covariance matrix?\n",
    "$\\begin{bmatrix} & X & Y & Z\\\\ X & 500 & 320 & -40\\\\ Y & 320 & 340 & 0\\\\ Z & -40 & 0 & 800 \\end{bmatrix}$"
   ]
  },
  {
   "cell_type": "markdown",
   "metadata": {},
   "source": [
    "**Answer**\n",
    "Solution: The variance covariance matrix can be interpreted as follows:\n",
    "\n",
    "1) The diagonal elements 500, 340 and 800 indicate the variance in data sets X, Y and Z respectively. Y shows the lowest variance whereas Z displays the highest variance.\n",
    "\n",
    "2) The covariance for X and Y is 320. As this is a positive number it means that when X increases (or decreases) Y also increases (or decreases)\n",
    "\n",
    "3) The covariance for X and Z is -40. As it is a negative number it implies that when X increases Z decreases and vice - versa.\n",
    "\n",
    "4) The covariance for Y and Z is 0. This means that there is no predictable relationship between the two data sets."
   ]
  },
  {
   "cell_type": "markdown",
   "metadata": {},
   "source": [
    "\n",
    "| X             |      Y      |     Z     |\n",
    "|---------------|-------------|-----------|\n",
    "| 15            |      12.5   |     50     |     \n",
    "| 35            |      20.8   |     55     |\n",
    "| 20            |      9.3    |     70     |\n",
    "| 14            |      20.1   |     65     |\n",
    "| 28            |      5.2    |     80     |       \n",
    "\n",
    "\n",
    "We will implement this in python to find covariance matrix"
   ]
  },
  {
   "cell_type": "code",
   "execution_count": 29,
   "metadata": {},
   "outputs": [
    {
     "name": "stdout",
     "output_type": "stream",
     "text": [
      "[[15.  12.5 50. ]\n",
      " [35.  15.8 55. ]\n",
      " [20.   9.3 70. ]\n",
      " [14.  20.1 65. ]\n",
      " [28.   5.2 80. ]]\n"
     ]
    }
   ],
   "source": [
    "import numpy as np\n",
    "\n",
    "# making the matrix\n",
    "X=np.array([15,35,20,14,28])\n",
    "Y=np.array([12.5,15.8,9.3,20.1,5.2])\n",
    "Z=np.array([50,55,70,65,80])\n",
    "matrix=np.vstack((X,Y,Z))\n",
    "data=matrix.T\n",
    "print(data)"
   ]
  },
  {
   "cell_type": "code",
   "execution_count": 30,
   "metadata": {},
   "outputs": [
    {
     "name": "stdout",
     "output_type": "stream",
     "text": [
      "[[ -7.4   -0.08 -14.  ]\n",
      " [ 12.6    3.22  -9.  ]\n",
      " [ -2.4   -3.28   6.  ]\n",
      " [ -8.4    7.52   1.  ]\n",
      " [  5.6   -7.38  16.  ]]\n"
     ]
    }
   ],
   "source": [
    "# subtract the mean value from each element which makes each data point cetered at zero\n",
    "data-=np.mean(data,axis=0)\n",
    "print(data)"
   ]
  },
  {
   "cell_type": "code",
   "execution_count": 31,
   "metadata": {},
   "outputs": [
    {
     "name": "stdout",
     "output_type": "stream",
     "text": [
      "squared matrix is \n",
      " [[5.47600e+01 6.40000e-03 1.96000e+02]\n",
      " [1.58760e+02 1.03684e+01 8.10000e+01]\n",
      " [5.76000e+00 1.07584e+01 3.60000e+01]\n",
      " [7.05600e+01 5.65504e+01 1.00000e+00]\n",
      " [3.13600e+01 5.44644e+01 2.56000e+02]]\n"
     ]
    }
   ],
   "source": [
    "# square every element of the matrix\n",
    "squared_data=np.square(data)\n",
    "print(f\"squared matrix is \\n\",squared_data)"
   ]
  },
  {
   "cell_type": "code",
   "execution_count": 32,
   "metadata": {},
   "outputs": [
    {
     "name": "stdout",
     "output_type": "stream",
     "text": [
      "64.24000000000001\n"
     ]
    }
   ],
   "source": [
    "# getting variance of \"X\" : sum of first column/ 5\n",
    "var_X=np.sum(squared_data[:,0])/data.shape[0]\n",
    "print(var_X)"
   ]
  },
  {
   "cell_type": "code",
   "execution_count": 33,
   "metadata": {},
   "outputs": [
    {
     "name": "stdout",
     "output_type": "stream",
     "text": [
      "26.429600000000004\n"
     ]
    }
   ],
   "source": [
    "#variance of y\n",
    "var_Y=np.sum(squared_data[:,1])/data.shape[0]\n",
    "print(var_Y)"
   ]
  },
  {
   "cell_type": "code",
   "execution_count": 34,
   "metadata": {},
   "outputs": [
    {
     "name": "stdout",
     "output_type": "stream",
     "text": [
      "114.0\n"
     ]
    }
   ],
   "source": [
    "#var z\n",
    "var_Z=np.sum(squared_data[:,2])/data.shape[0]\n",
    "print(var_Z)"
   ]
  },
  {
   "cell_type": "code",
   "execution_count": 35,
   "metadata": {},
   "outputs": [
    {
     "name": "stdout",
     "output_type": "stream",
     "text": [
      "-11.092\n"
     ]
    }
   ],
   "source": [
    "#covariance of x,y\n",
    "mul_xy=data[:,0] * data[:,1]\n",
    "cov_xy=np.sum(mul_xy)/data.shape[0]\n",
    "print(cov_xy)"
   ]
  },
  {
   "cell_type": "code",
   "execution_count": 36,
   "metadata": {},
   "outputs": [
    {
     "name": "stdout",
     "output_type": "stream",
     "text": [
      "-31.619999999999997\n"
     ]
    }
   ],
   "source": [
    "#covariance of yz\n",
    "mul_yz=data[:,1] * data[:,2]\n",
    "cov_yz=np.sum(mul_yz)/data.shape[0]\n",
    "print(cov_yz)"
   ]
  },
  {
   "cell_type": "code",
   "execution_count": 37,
   "metadata": {},
   "outputs": [
    {
     "name": "stdout",
     "output_type": "stream",
     "text": [
      "11.400000000000002\n"
     ]
    }
   ],
   "source": [
    "#cov_zx\n",
    "mul_xz=data[:,0] * data[:,2]\n",
    "cov_xz=np.sum(mul_xz)/data.shape[0]\n",
    "print(cov_xz)"
   ]
  },
  {
   "cell_type": "markdown",
   "metadata": {},
   "source": [
    "we evaluated the variances and the covariance values. putting these value we can now construct covariance matrix using the defintion. this will be a (3 X 3) matrix. diagonal value will be the variance of x,y,z respectively. and off diagonal value will be covariance."
   ]
  },
  {
   "cell_type": "code",
   "execution_count": 38,
   "metadata": {},
   "outputs": [
    {
     "name": "stdout",
     "output_type": "stream",
     "text": [
      "covarinace variance matrix by manual procedure : \n",
      " [[ 64.24   -11.092   11.4   ]\n",
      " [-11.092   26.4296 -31.62  ]\n",
      " [ 11.4    -31.62   114.    ]]\n"
     ]
    }
   ],
   "source": [
    "# Construct the covariance matrix\n",
    "cov_matrix = np.array([[var_X, cov_xy, cov_xz],\n",
    "                       [cov_xy, var_Y, cov_yz],\n",
    "                       [cov_xz, cov_yz, var_Z]])\n",
    "\n",
    "print(\"covarinace variance matrix by manual procedure : \\n\",cov_matrix)\n"
   ]
  },
  {
   "cell_type": "markdown",
   "metadata": {},
   "source": [
    "Well we have computed covariance matrix manually and step by step. We can do this in more simple way. Moreover we can also verify if our porcess is correct."
   ]
  },
  {
   "cell_type": "code",
   "execution_count": 39,
   "metadata": {},
   "outputs": [
    {
     "name": "stdout",
     "output_type": "stream",
     "text": [
      "covariance matrix of the data: \n",
      " [[ 64.24   -11.092   11.4   ]\n",
      " [-11.092   26.4296 -31.62  ]\n",
      " [ 11.4    -31.62   114.    ]]\n"
     ]
    }
   ],
   "source": [
    "# now we can square each element by multiplying matrix.T * matrix\n",
    "covariance_matrix=np.dot(data.T,data)/data.shape[0]\n",
    "print(\"covariance matrix of the data: \\n\",covariance_matrix)"
   ]
  },
  {
   "cell_type": "markdown",
   "metadata": {},
   "source": [
    "Now we have learned how to obtain covariance matrix easily. Now lets implement our first example and see if our code works"
   ]
  },
  {
   "cell_type": "code",
   "execution_count": 40,
   "metadata": {},
   "outputs": [
    {
     "name": "stdout",
     "output_type": "stream",
     "text": [
      "[[68. 29.]\n",
      " [60. 26.]\n",
      " [58. 30.]\n",
      " [40. 35.]]\n"
     ]
    }
   ],
   "source": [
    "# initializing data\n",
    "X=np.array([68,60,58,40],dtype=float)\n",
    "Y=np.array([29,26,30,35],dtype=float)\n",
    "data=np.vstack((X,Y))\n",
    "data=data.T\n",
    "print(data)"
   ]
  },
  {
   "cell_type": "code",
   "execution_count": 41,
   "metadata": {},
   "outputs": [
    {
     "name": "stdout",
     "output_type": "stream",
     "text": [
      "[[ 11.5  -1. ]\n",
      " [  3.5  -4. ]\n",
      " [  1.5   0. ]\n",
      " [-16.5   5. ]]\n"
     ]
    }
   ],
   "source": [
    "# make the data values zero centered\n",
    "data-=np.mean(data,axis=0)\n",
    "print(data)"
   ]
  },
  {
   "cell_type": "code",
   "execution_count": 42,
   "metadata": {},
   "outputs": [
    {
     "name": "stdout",
     "output_type": "stream",
     "text": [
      "covariance matrix is :\n",
      " [[104.75 -27.  ]\n",
      " [-27.    10.5 ]]\n"
     ]
    }
   ],
   "source": [
    "#now evaluationg the covariance matrix\n",
    "cov_mat=np.dot(data.T,data)/data.shape[0]\n",
    "print(\"covariance matrix is :\\n\",cov_mat)"
   ]
  },
  {
   "cell_type": "markdown",
   "metadata": {},
   "source": [
    "we can see that this result matches our evaluation of the example which we took in the beginning."
   ]
  }
 ],
 "metadata": {
  "kernelspec": {
   "display_name": "Python 3",
   "language": "python",
   "name": "python3"
  },
  "language_info": {
   "codemirror_mode": {
    "name": "ipython",
    "version": 3
   },
   "file_extension": ".py",
   "mimetype": "text/x-python",
   "name": "python",
   "nbconvert_exporter": "python",
   "pygments_lexer": "ipython3",
   "version": "3.11.3"
  },
  "orig_nbformat": 4
 },
 "nbformat": 4,
 "nbformat_minor": 2
}
