{
 "cells": [
  {
   "cell_type": "markdown",
   "metadata": {},
   "source": [
    "# Singular Value Decomposition(SVD)\n",
    "Singular Value decomposition is a way of factorization of a matrix. Given a matrix $A$ of size (m X n) and we want to factorize as follows,\n",
    "$A = U \\cdot \\Sigma \\cdot V^T $\n",
    "\n",
    "Where, \n",
    "- A=m X n matrix\n",
    "- $ \\Sigma$ is m X n diagonal matrix. diagonal values are eigen values\n",
    "- U is m X m matrix. each colum represents eigen vectors correspondeing to eigen values. \n",
    "- $V^T$ is n X n matrix\n",
    "\n",
    "**NB**: U and $V^T$ are orthonormal matrix. This turns out that all the columns are orthogonal and each column value is 1. Therefore $U^TU$ and  $V^TV$ are identitiy matrix(I)\n"
   ]
  },
  {
   "cell_type": "markdown",
   "metadata": {},
   "source": [
    "## Singular Values\n",
    "We can find eigen values $\\lambda$ from $A^TA$ matrix. The singular value $\\sigma$ which is squred root of $\\lambda$ is called singular value.\n",
    "\n",
    "**Rank**: Rank of a matrix is determined by the number of nonzero eigen values. Conversely we can say that the number of singular values is equal to the rank of the matrix. The number of non zero singular values can be maximum of size m."
   ]
  },
  {
   "cell_type": "markdown",
   "metadata": {},
   "source": [
    "## Approach to find SVD\n",
    "- step 1: Evaluate U: To evaluate U we need to form $AA^T$ since from the main equation we can see that,$AV\\Sigma ^T = U$\n",
    "    - find eigen values of $AA^T$ matrix by solving $AA^T -\\lambda I$\n",
    "    - with the lambda values find corresponding eigen vectors\n",
    "    - then form U by placing eigen vectors as columns ordered by vectors obtained by decreasing order eigen values.\n",
    "    - then divide each element of each eigen vector by that vector value to form orthonormal vector. \n",
    "\n",
    "\n",
    "- step 2: Evaluate $V^T$: To evaluate V we need to form $A^TA$ since from the main equation we can see that,$AU^T\\Sigma ^T = V$\n",
    "    - these steps are same as evaluating U.\n",
    "\n",
    "\n",
    "- step 3: Evaluate $\\Sigma$: $\\Sigma$ has the same dimension as the main matrix A. It is formed using the eigen values positioning diagonally in descending order. we only have to keep in mind that the number of nonzero eigen values can be at most m.\n",
    "   "
   ]
  },
  {
   "cell_type": "markdown",
   "metadata": {},
   "source": [
    "Let's implement in python"
   ]
  },
  {
   "cell_type": "code",
   "execution_count": 1,
   "metadata": {},
   "outputs": [
    {
     "name": "stdout",
     "output_type": "stream",
     "text": [
      "[[6. 6. 5. 4.]\n",
      " [2. 6. 3. 5.]]\n"
     ]
    }
   ],
   "source": [
    "import numpy as np\n",
    "\n",
    "# step 1 standardization\n",
    "# initializing data\n",
    "X=np.array([6,6,5,4],dtype=float)\n",
    "Y=np.array([2,6,3,5],dtype=float)\n",
    "data=np.vstack((X,Y))\n",
    "#data=data.T # now each column represents a example\n",
    "print(data)"
   ]
  },
  {
   "cell_type": "markdown",
   "metadata": {},
   "source": [
    "### Evaluating U"
   ]
  },
  {
   "cell_type": "code",
   "execution_count": 2,
   "metadata": {},
   "outputs": [
    {
     "name": "stdout",
     "output_type": "stream",
     "text": [
      "[[113.  83.]\n",
      " [ 83.  74.]]\n"
     ]
    }
   ],
   "source": [
    "u_mat=np.dot(data,data.T)\n",
    "print(u_mat)"
   ]
  },
  {
   "cell_type": "code",
   "execution_count": 3,
   "metadata": {},
   "outputs": [
    {
     "name": "stdout",
     "output_type": "stream",
     "text": [
      "eigen values are [178.75989679   8.24010321] \n",
      " eigen vectors are [[ 0.78380879 -0.62100223]\n",
      " [ 0.62100223  0.78380879]]\n"
     ]
    }
   ],
   "source": [
    "# find eigen vales and eigen vectors\n",
    "eigen_val_u, eigen_vec_u=np.linalg.eig(u_mat)\n",
    "print(f\"eigen values are {eigen_val_u} \\n eigen vectors are {eigen_vec_u}\")"
   ]
  },
  {
   "cell_type": "markdown",
   "metadata": {},
   "source": [
    "Look here the eigen values are in already decreasing order. Otherwise we will have to reorder the values as well as the vector values."
   ]
  },
  {
   "cell_type": "markdown",
   "metadata": {},
   "source": [
    "we get eigen vectors already. we just need to divide each vector value by the value of each vector. Value of a vector is ||V||=squrt(v1^2+v2^2+......)"
   ]
  },
  {
   "cell_type": "code",
   "execution_count": 4,
   "metadata": {},
   "outputs": [
    {
     "name": "stdout",
     "output_type": "stream",
     "text": [
      "[[ 0.78380879 -0.62100223]\n",
      " [ 0.62100223  0.78380879]]\n"
     ]
    }
   ],
   "source": [
    "U=eigen_vec_u/np.sum(eigen_vec_u**2,axis=0)\n",
    "print(U)"
   ]
  },
  {
   "cell_type": "markdown",
   "metadata": {},
   "source": [
    "### step 2: finding $V^T$"
   ]
  },
  {
   "cell_type": "code",
   "execution_count": 5,
   "metadata": {},
   "outputs": [
    {
     "name": "stdout",
     "output_type": "stream",
     "text": [
      "[[40. 48. 36. 34.]\n",
      " [48. 72. 48. 54.]\n",
      " [36. 48. 34. 35.]\n",
      " [34. 54. 35. 41.]]\n"
     ]
    }
   ],
   "source": [
    "v_mat=np.dot(data.T,data)\n",
    "print(v_mat)"
   ]
  },
  {
   "cell_type": "markdown",
   "metadata": {},
   "source": [
    "Eigen values and eigen vectors"
   ]
  },
  {
   "cell_type": "code",
   "execution_count": 6,
   "metadata": {},
   "outputs": [
    {
     "name": "stdout",
     "output_type": "stream",
     "text": [
      "eigen values \n",
      "[ 1.78759897e+02  8.24010321e+00  2.14909590e-15 -5.95719603e-15], \n",
      " eigne vectors \n",
      "[[-0.4446378   0.7519081   0.4577028   0.32900677]\n",
      " [-0.63042599 -0.34029599  0.18960144 -0.54678122]\n",
      " [-0.4324609   0.26252206 -0.86208233 -0.30442013]\n",
      " [-0.46673104 -0.49991501  0.10664655  0.70718684]]\n"
     ]
    }
   ],
   "source": [
    "eigen_val_v, eigen_vec_v=np.linalg.eig(v_mat)\n",
    "print(f\"eigen values \\n{ eigen_val_v}, \\n eigne vectors \\n{eigen_vec_v}\")"
   ]
  },
  {
   "cell_type": "markdown",
   "metadata": {},
   "source": [
    "Here the eigen values are in sorted(descending). Therefore the eigen vectors are also sorted."
   ]
  },
  {
   "cell_type": "code",
   "execution_count": 7,
   "metadata": {},
   "outputs": [
    {
     "name": "stdout",
     "output_type": "stream",
     "text": [
      "[[-0.4446378   0.7519081   0.4577028   0.32900677]\n",
      " [-0.63042599 -0.34029599  0.18960144 -0.54678122]\n",
      " [-0.4324609   0.26252206 -0.86208233 -0.30442013]\n",
      " [-0.46673104 -0.49991501  0.10664655  0.70718684]]\n"
     ]
    }
   ],
   "source": [
    "# dividing by value\n",
    "V=eigen_vec_v/np.sum(eigen_vec_v**2,axis=0)\n",
    "print(V)"
   ]
  },
  {
   "cell_type": "markdown",
   "metadata": {},
   "source": [
    "we need to transpose this matrix in order to get $V^T$"
   ]
  },
  {
   "cell_type": "code",
   "execution_count": 8,
   "metadata": {},
   "outputs": [
    {
     "name": "stdout",
     "output_type": "stream",
     "text": [
      "[[-0.4446378  -0.63042599 -0.4324609  -0.46673104]\n",
      " [ 0.7519081  -0.34029599  0.26252206 -0.49991501]\n",
      " [ 0.4577028   0.18960144 -0.86208233  0.10664655]\n",
      " [ 0.32900677 -0.54678122 -0.30442013  0.70718684]]\n"
     ]
    }
   ],
   "source": [
    "#transpose of V\n",
    "V_T=np.transpose(V)\n",
    "print(V_T)"
   ]
  },
  {
   "cell_type": "markdown",
   "metadata": {},
   "source": [
    "###  Evaluating  $\\Sigma$\n",
    " we know tha  $\\Sigma$ has the shape as the main matrix A. Moreover the number of eigen values can not exceed the rank of the matrix. We evaluated $\\lambda _1 ,\\lambda _2$ at step 1, then $\\lambda _1 ,\\lambda _2,\\lambda _3 ,\\lambda _4$ in step 2.  Among them lamda $\\lambda _1 ,\\lambda _2$ are identical and  $\\lambda _3 ,\\lambda _4$ are near to zero .Moreover we can have at most 2(row of main matrix A) singular values. Finally singular values is equal to the squared root of the eigen values."
   ]
  },
  {
   "cell_type": "code",
   "execution_count": 9,
   "metadata": {},
   "outputs": [
    {
     "name": "stdout",
     "output_type": "stream",
     "text": [
      "[[13.37011207  0.        ]\n",
      " [ 0.          2.870558  ]]\n"
     ]
    }
   ],
   "source": [
    "## calculating sigma values\n",
    "singular_val=np.diag(np.sqrt(eigen_val_u))\n",
    "print(singular_val)"
   ]
  },
  {
   "cell_type": "code",
   "execution_count": 10,
   "metadata": {},
   "outputs": [
    {
     "name": "stdout",
     "output_type": "stream",
     "text": [
      "left singular vectors\n",
      "[[ 0.78380879 -0.62100223]\n",
      " [ 0.62100223  0.78380879]],\n",
      " diagonal matrix(S)\n",
      "[[13.37011207  0.        ]\n",
      " [ 0.          2.870558  ]] \n",
      " right singular values\n",
      "[[-0.4446378  -0.63042599 -0.4324609  -0.46673104]\n",
      " [ 0.7519081  -0.34029599  0.26252206 -0.49991501]\n",
      " [ 0.4577028   0.18960144 -0.86208233  0.10664655]\n",
      " [ 0.32900677 -0.54678122 -0.30442013  0.70718684]]\n"
     ]
    }
   ],
   "source": [
    "#print all values together\n",
    "print(f\"left singular vectors\\n{U},\\n diagonal matrix(S)\\n{singular_val} \\n right singular values\\n{V_T}\")"
   ]
  },
  {
   "cell_type": "markdown",
   "metadata": {},
   "source": [
    "we can evaluate all the factors of matrix A in a single line of code"
   ]
  },
  {
   "cell_type": "code",
   "execution_count": 11,
   "metadata": {},
   "outputs": [],
   "source": [
    "u,s,v=np.linalg.svd(data)"
   ]
  },
  {
   "cell_type": "code",
   "execution_count": 12,
   "metadata": {},
   "outputs": [
    {
     "name": "stdout",
     "output_type": "stream",
     "text": [
      "left values\n",
      "[[-0.78380879 -0.62100223]\n",
      " [-0.62100223  0.78380879]],\n",
      "singular values\n",
      "[13.37011207  2.870558  ] \n",
      " right val\n",
      "[[-0.4446378  -0.63042599 -0.4324609  -0.46673104]\n",
      " [-0.7519081   0.34029599 -0.26252206  0.49991501]\n",
      " [-0.45999056 -0.1801256   0.86158046 -0.11680133]\n",
      " [ 0.15918578 -0.67403003  0.04169946  0.72014204]]\n"
     ]
    }
   ],
   "source": [
    "print(f\"left values\\n{u},\\nsingular values\\n{s} \\n right val\\n{v}\")"
   ]
  },
  {
   "cell_type": "markdown",
   "metadata": {},
   "source": [
    "we can see that the right singular value in our maual procedure differs from the final approach. No worries. SVD is not unique.he signs of the right singular vectors can be flipped without affecting the correctness of the decomposition."
   ]
  }
 ],
 "metadata": {
  "kernelspec": {
   "display_name": "Python 3",
   "language": "python",
   "name": "python3"
  },
  "language_info": {
   "codemirror_mode": {
    "name": "ipython",
    "version": 3
   },
   "file_extension": ".py",
   "mimetype": "text/x-python",
   "name": "python",
   "nbconvert_exporter": "python",
   "pygments_lexer": "ipython3",
   "version": "3.11.3"
  },
  "orig_nbformat": 4
 },
 "nbformat": 4,
 "nbformat_minor": 2
}
