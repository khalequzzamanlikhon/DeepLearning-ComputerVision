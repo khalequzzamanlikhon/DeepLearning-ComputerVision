{
 "cells": [
  {
   "cell_type": "markdown",
   "metadata": {},
   "source": [
    "### Introduction\n",
    "The instance segmentation is kind of comprises the whole problem. We are given an image and we have to predict the locations and the identities of objects in that image. That means rather than prdicting the bounding box for we need to predict a whole segmentation mask for each of those objects and predict which pixels in the input image corrsponds to each object instance. This is kind of hybrid between semantic segmentaion and object detection.\n",
    "\n",
    "In our example image, we have two dogs and instance segmentation distinguishes the dogs in the output and kind of like semantic segmentation. we have pixel wise accuracy where for each of those objects we want to say which pixel belong to that object."
   ]
  },
  {
   "cell_type": "markdown",
   "metadata": {},
   "source": [
    "### Methods\n",
    "There are different method to perform this task. But we will introduce **Mask R-CNN** method. In this method we take our input image and feed it through a CNN and some learned regional network exactly same as faster R-CNN. When we get the learned region proposals we map them onto the feature map just like we did in faster R-CNN. But now rather than just predicting classification and bounding box decision, we in addition want to predict a segmentation mask for each of those regional proposals. This refers the problem as semantic segmentation problem inside each of the region proposals that we are getting from the regional proposal networks.\n",
    "\n",
    "After applying ROI to wrap our features corresponding to our region proposals into right shape now we have two different branches. One will predict classification scores to tell about the object/background and the coordinates of the bounding box just like in faster R-CNN. The other branch performs like semantic segmentation to classify for each pixel in that region proposal whether or not it's an object."
   ]
  },
  {
   "cell_type": "markdown",
   "metadata": {},
   "source": [
    "![alt text](images/is1.PNG)\n",
    "\n",
    "![alt text](images/is2.PNG)\n",
    "\n",
    "![alt text](images/is3.PNG)"
   ]
  },
  {
   "cell_type": "markdown",
   "metadata": {},
   "source": [
    "We can use Mask R-CNN in pose estimation and instance segmentation. Only addition we need to make is that for each of these region proposals we add an additional little branch that predicts these coordinates of the joints for the instance of the current regioon proposal. Now we need to also add another loss term to the multitask loss.\n",
    "\n",
    "After adding this we can now say that this problem is nothing but a feedforward network. The network decides how many people are in the image, detecting where those people are, figuring out the pixels corresponding to each of these people. This work really well even in the crowd."
   ]
  }
 ],
 "metadata": {
  "language_info": {
   "name": "python"
  }
 },
 "nbformat": 4,
 "nbformat_minor": 2
}
